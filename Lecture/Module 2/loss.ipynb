{
 "cells": [
  {
   "cell_type": "code",
   "execution_count": null,
   "id": "cf412976",
   "metadata": {
    "execution": {
     "iopub.execute_input": "2024-06-09T08:00:25.307711Z",
     "iopub.status.busy": "2024-06-09T08:00:25.307524Z",
     "iopub.status.idle": "2024-06-09T08:00:25.310273Z",
     "shell.execute_reply": "2024-06-09T08:00:25.309829Z"
    },
    "lines_to_next_cell": 0
   },
   "outputs": [],
   "source": [
    "#   title: Loss Functions in PyTorch"
   ]
  },
  {
   "cell_type": "code",
   "execution_count": null,
   "id": "bbbe1835",
   "metadata": {
    "execution": {
     "iopub.execute_input": "2024-06-09T08:00:25.313755Z",
     "iopub.status.busy": "2024-06-09T08:00:25.313613Z",
     "iopub.status.idle": "2024-06-09T08:00:26.257851Z",
     "shell.execute_reply": "2024-06-09T08:00:26.257236Z"
    }
   },
   "outputs": [],
   "source": [
    "import torch\n",
    "\n",
    "# example of l2 loss function for linear regression\n",
    "\n",
    "\n",
    "def l2_loss(y_true, y_pred):\n",
    "    return torch.sum((y_true - y_pred) ** 2)\n",
    "\n",
    "\n",
    "linear = torch.nn.Linear(4, 1)\n",
    "x = torch.rand((1, 4))\n",
    "\n",
    "y_true = torch.as_tensor([1.0], dtype=torch.float32)\n",
    "y_pred = linear(x)\n",
    "\n",
    "print(l2_loss(y_true, y_pred))"
   ]
  },
  {
   "cell_type": "code",
   "execution_count": null,
   "id": "2b7f556c",
   "metadata": {
    "execution": {
     "iopub.execute_input": "2024-06-09T08:00:26.262156Z",
     "iopub.status.busy": "2024-06-09T08:00:26.261913Z",
     "iopub.status.idle": "2024-06-09T08:00:26.268047Z",
     "shell.execute_reply": "2024-06-09T08:00:26.267411Z"
    }
   },
   "outputs": [],
   "source": [
    "import torch\n",
    "\n",
    "# example of binary cross entropy loss function for binary classification\n",
    "\n",
    "linear = torch.nn.Linear(4, 1)\n",
    "x = torch.rand((1, 4))\n",
    "\n",
    "y_true = torch.as_tensor([[1]], dtype=torch.float32)\n",
    "\n",
    "y_pred = torch.sigmoid(linear(x))\n",
    "\n",
    "loss_func = torch.nn.BCELoss()\n",
    "\n",
    "print(loss_func(y_pred, y_true))"
   ]
  },
  {
   "cell_type": "code",
   "execution_count": null,
   "id": "d0f31c86",
   "metadata": {
    "execution": {
     "iopub.execute_input": "2024-06-09T08:00:26.270677Z",
     "iopub.status.busy": "2024-06-09T08:00:26.270521Z",
     "iopub.status.idle": "2024-06-09T08:00:26.276126Z",
     "shell.execute_reply": "2024-06-09T08:00:26.275546Z"
    }
   },
   "outputs": [],
   "source": [
    "import torch\n",
    "\n",
    "# example of multi-class cross entropy loss function for multi-class classification\n",
    "\n",
    "num_class = 3\n",
    "\n",
    "linear = torch.nn.Linear(4, num_class)\n",
    "x = torch.rand((1, 4))\n",
    "\n",
    "y_true = torch.as_tensor([2], dtype=torch.int64)\n",
    "\n",
    "y_pred = linear(x)\n",
    "\n",
    "loss_func = torch.nn.CrossEntropyLoss()\n",
    "\n",
    "print(loss_func(y_pred, y_true))"
   ]
  }
 ],
 "metadata": {
  "kernelspec": {
   "display_name": "Python 3",
   "language": "python",
   "name": "python3"
  },
  "language_info": {
   "codemirror_mode": {
    "name": "ipython",
    "version": 3
   },
   "file_extension": ".py",
   "mimetype": "text/x-python",
   "name": "python",
   "nbconvert_exporter": "python",
   "pygments_lexer": "ipython3",
   "version": "3.11.5"
  }
 },
 "nbformat": 4,
 "nbformat_minor": 5
}
