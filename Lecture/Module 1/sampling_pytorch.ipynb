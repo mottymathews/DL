{
 "cells": [
  {
   "cell_type": "code",
   "execution_count": 1,
   "id": "dcf7ae6c",
   "metadata": {
    "execution": {
     "iopub.execute_input": "2024-06-09T08:23:11.058868Z",
     "iopub.status.busy": "2024-06-09T08:23:11.058252Z",
     "iopub.status.idle": "2024-06-09T08:23:12.381516Z",
     "shell.execute_reply": "2024-06-09T08:23:12.380883Z"
    }
   },
   "outputs": [
    {
     "name": "stderr",
     "output_type": "stream",
     "text": [
      "/opt/anaconda3/envs/deeplearning/lib/python3.11/site-packages/torch/_subclasses/functional_tensor.py:276: UserWarning: Failed to initialize NumPy: No module named 'numpy' (Triggered internally at /Users/runner/work/pytorch/pytorch/pytorch/torch/csrc/utils/tensor_numpy.cpp:81.)\n",
      "  cpu = _conversion_method_template(device=torch.device(\"cpu\"))\n"
     ]
    }
   ],
   "source": [
    "import torch\n",
    "import torch.distributions as dist"
   ]
  },
  {
   "cell_type": "code",
   "execution_count": 2,
   "id": "48978601",
   "metadata": {
    "execution": {
     "iopub.execute_input": "2024-06-09T08:23:12.383969Z",
     "iopub.status.busy": "2024-06-09T08:23:12.383638Z",
     "iopub.status.idle": "2024-06-09T08:23:12.392718Z",
     "shell.execute_reply": "2024-06-09T08:23:12.392174Z"
    }
   },
   "outputs": [
    {
     "name": "stdout",
     "output_type": "stream",
     "text": [
      "tensor([0.])\n",
      "tensor([0.])\n",
      "tensor([1.])\n",
      "tensor([0.])\n",
      "tensor([0.])\n",
      "tensor([0.])\n",
      "tensor([0.])\n",
      "tensor([1.])\n",
      "tensor([1.])\n",
      "tensor([1.])\n"
     ]
    }
   ],
   "source": [
    "# Lets create a Bernoulli distribution\n",
    "\n",
    "bernoulli = dist.Bernoulli(torch.tensor([0.5]))\n",
    "\n",
    "# Sample from the distribution\n",
    "for _ in range(10):\n",
    "    print(bernoulli.sample())"
   ]
  },
  {
   "cell_type": "code",
   "execution_count": 3,
   "id": "43304ad0",
   "metadata": {
    "execution": {
     "iopub.execute_input": "2024-06-09T08:23:12.394834Z",
     "iopub.status.busy": "2024-06-09T08:23:12.394598Z",
     "iopub.status.idle": "2024-06-09T08:23:12.410166Z",
     "shell.execute_reply": "2024-06-09T08:23:12.409561Z"
    }
   },
   "outputs": [
    {
     "name": "stdout",
     "output_type": "stream",
     "text": [
      "Mean: 0.48100000619888306\n",
      "Variance: 0.24988888204097748\n"
     ]
    }
   ],
   "source": [
    "samples = [bernoulli.sample() for _ in range(1000)]\n",
    "print(f\"Mean: {torch.mean(torch.stack(samples))}\")\n",
    "print(f\"Variance: {torch.var(torch.stack(samples))}\")"
   ]
  },
  {
   "cell_type": "code",
   "execution_count": 4,
   "id": "00788305",
   "metadata": {
    "execution": {
     "iopub.execute_input": "2024-06-09T08:23:12.412239Z",
     "iopub.status.busy": "2024-06-09T08:23:12.412059Z",
     "iopub.status.idle": "2024-06-09T08:23:12.418696Z",
     "shell.execute_reply": "2024-06-09T08:23:12.418124Z"
    }
   },
   "outputs": [
    {
     "name": "stdout",
     "output_type": "stream",
     "text": [
      "tensor([-1.2189])\n",
      "tensor([-1.2254])\n",
      "tensor([2.4767])\n",
      "tensor([1.5589])\n",
      "tensor([0.5397])\n",
      "tensor([-0.8216])\n",
      "tensor([-1.0785])\n",
      "tensor([0.6656])\n",
      "tensor([0.8621])\n",
      "tensor([0.8876])\n"
     ]
    }
   ],
   "source": [
    "# Lets create a Normal distribution\n",
    "normal = dist.Normal(torch.tensor([0.0]), torch.tensor([1.0]))\n",
    "for _ in range(10):\n",
    "    print(normal.sample())"
   ]
  },
  {
   "cell_type": "code",
   "execution_count": 5,
   "id": "77e29d4f",
   "metadata": {
    "execution": {
     "iopub.execute_input": "2024-06-09T08:23:12.421822Z",
     "iopub.status.busy": "2024-06-09T08:23:12.421337Z",
     "iopub.status.idle": "2024-06-09T08:23:12.455542Z",
     "shell.execute_reply": "2024-06-09T08:23:12.454973Z"
    }
   },
   "outputs": [
    {
     "name": "stdout",
     "output_type": "stream",
     "text": [
      "Mean: -0.007625647820532322\n",
      "Variance: 1.0005438327789307\n"
     ]
    }
   ],
   "source": [
    "samples = [normal.sample() for _ in range(1000)]\n",
    "print(f\"Mean: {torch.mean(torch.stack(samples))}\")\n",
    "print(f\"Variance: {torch.var(torch.stack(samples))}\")"
   ]
  },
  {
   "cell_type": "code",
   "execution_count": null,
   "id": "f1b6155b",
   "metadata": {},
   "outputs": [],
   "source": []
  }
 ],
 "metadata": {
  "kernelspec": {
   "display_name": "deeplearning",
   "language": "python",
   "name": "python3"
  },
  "language_info": {
   "codemirror_mode": {
    "name": "ipython",
    "version": 3
   },
   "file_extension": ".py",
   "mimetype": "text/x-python",
   "name": "python",
   "nbconvert_exporter": "python",
   "pygments_lexer": "ipython3",
   "version": "3.11.13"
  }
 },
 "nbformat": 4,
 "nbformat_minor": 5
}
