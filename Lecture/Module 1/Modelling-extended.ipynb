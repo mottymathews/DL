{
 "cells": [
  {
   "cell_type": "markdown",
   "id": "5d880a15",
   "metadata": {},
   "source": [
    "# A Basic Statistical Model in PyTorch"
   ]
  },
  {
   "cell_type": "markdown",
   "id": "667adf2f",
   "metadata": {},
   "source": [
    "## Nearest Neighbors\n",
    "\n",
    "$f:R \\rightarrow \\{0, 1\\}$\n",
    "- find closest x in data\n",
    "- return corresponding y"
   ]
  },
  {
   "cell_type": "code",
   "execution_count": null,
   "id": "df4c4488",
   "metadata": {
    "execution": {
     "iopub.execute_input": "2024-06-09T02:31:37.212852Z",
     "iopub.status.busy": "2024-06-09T02:31:37.212663Z",
     "iopub.status.idle": "2024-06-09T02:31:38.894401Z",
     "shell.execute_reply": "2024-06-09T02:31:38.893906Z"
    },
    "lines_to_next_cell": 0
   },
   "outputs": [],
   "source": [
    "%load_ext autoreload\n",
    "%autoreload 2\n",
    "\n",
    "import torch\n",
    "import torchvision\n",
    "from PIL import Image\n"
   ]
  },
  {
   "cell_type": "markdown",
   "id": "274e72b8",
   "metadata": {
    "lines_to_next_cell": 2
   },
   "source": [
    "## Image Visualization\n",
    "+"
   ]
  },
  {
   "cell_type": "code",
   "execution_count": null,
   "id": "62f0588f",
   "metadata": {
    "execution": {
     "iopub.execute_input": "2024-06-09T02:31:38.897378Z",
     "iopub.status.busy": "2024-06-09T02:31:38.897154Z",
     "iopub.status.idle": "2024-06-09T02:31:38.911937Z",
     "shell.execute_reply": "2024-06-09T02:31:38.911325Z"
    }
   },
   "outputs": [],
   "source": [
    "def visualize_image(img):\n",
    "    img = 255 * img.permute(1, 2, 0)\n",
    "    img = img.byte().numpy()\n",
    "\n",
    "    return Image.fromarray(img)"
   ]
  },
  {
   "cell_type": "code",
   "execution_count": null,
   "id": "aad4257e",
   "metadata": {
    "execution": {
     "iopub.execute_input": "2024-06-09T02:31:38.915030Z",
     "iopub.status.busy": "2024-06-09T02:31:38.914888Z",
     "iopub.status.idle": "2024-06-09T02:31:38.929553Z",
     "shell.execute_reply": "2024-06-09T02:31:38.928966Z"
    }
   },
   "outputs": [],
   "source": [
    "def split_data(dataset, n=100):\n",
    "    imgs = []\n",
    "    labels = []\n",
    "\n",
    "    for i in range(len(dataset)):\n",
    "        if i > 1000:\n",
    "            break\n",
    "\n",
    "        x, y = dataset[i]\n",
    "        imgs.append(x)\n",
    "        labels.append(y)\n",
    "\n",
    "    imgs = torch.stack(imgs, dim=0)\n",
    "    labels = torch.as_tensor(labels, dtype=torch.long)\n",
    "\n",
    "    l1 = 0\n",
    "    l2 = 4\n",
    "\n",
    "    mask = (labels == l1) | (labels == l2)\n",
    "    imgs = imgs[mask]\n",
    "    labels = labels[mask]\n",
    "    labels[labels == l1] = 0\n",
    "    labels[labels == l2] = 1\n",
    "\n",
    "    return imgs[:n], labels[:n]"
   ]
  },
  {
   "cell_type": "code",
   "execution_count": null,
   "id": "5b2099b3",
   "metadata": {
    "execution": {
     "iopub.execute_input": "2024-06-09T02:31:38.932746Z",
     "iopub.status.busy": "2024-06-09T02:31:38.932596Z",
     "iopub.status.idle": "2024-06-09T02:31:38.946579Z",
     "shell.execute_reply": "2024-06-09T02:31:38.945772Z"
    }
   },
   "outputs": [],
   "source": [
    "size = (128, 128)\n",
    "transform = torchvision.transforms.Compose([torchvision.transforms.Resize(size), torchvision.transforms.ToTensor()])"
   ]
  },
  {
   "cell_type": "code",
   "execution_count": null,
   "id": "0a693813",
   "metadata": {
    "execution": {
     "iopub.execute_input": "2024-06-09T02:31:38.948567Z",
     "iopub.status.busy": "2024-06-09T02:31:38.948414Z",
     "iopub.status.idle": "2024-06-09T02:32:14.340004Z",
     "shell.execute_reply": "2024-06-09T02:32:14.339423Z"
    }
   },
   "outputs": [],
   "source": [
    "train_dataset = torchvision.datasets.Flowers102(\"/tmp/flowers\", \"train\", transform=transform, download=True)"
   ]
  },
  {
   "cell_type": "code",
   "execution_count": null,
   "id": "22bcbfc6",
   "metadata": {
    "execution": {
     "iopub.execute_input": "2024-06-09T02:32:14.342229Z",
     "iopub.status.busy": "2024-06-09T02:32:14.341986Z",
     "iopub.status.idle": "2024-06-09T02:32:19.748555Z",
     "shell.execute_reply": "2024-06-09T02:32:19.747942Z"
    }
   },
   "outputs": [],
   "source": [
    "# For NN, We'll need to split the data directly\n",
    "imgs, labels = split_data(train_dataset)"
   ]
  },
  {
   "cell_type": "code",
   "execution_count": null,
   "id": "533179c5",
   "metadata": {
    "execution": {
     "iopub.execute_input": "2024-06-09T02:32:19.752509Z",
     "iopub.status.busy": "2024-06-09T02:32:19.752109Z",
     "iopub.status.idle": "2024-06-09T02:32:19.774082Z",
     "shell.execute_reply": "2024-06-09T02:32:19.773632Z"
    }
   },
   "outputs": [],
   "source": [
    "print(f\"{imgs.shape = }\")\n",
    "print(f\"{imgs.dtype = }\")"
   ]
  },
  {
   "cell_type": "code",
   "execution_count": null,
   "id": "2dddbc8a",
   "metadata": {
    "execution": {
     "iopub.execute_input": "2024-06-09T02:32:19.776104Z",
     "iopub.status.busy": "2024-06-09T02:32:19.775913Z",
     "iopub.status.idle": "2024-06-09T02:32:19.790723Z",
     "shell.execute_reply": "2024-06-09T02:32:19.790284Z"
    }
   },
   "outputs": [],
   "source": [
    "print(f\"{labels.shape = }\")\n",
    "print(f\"{labels.dtype = }\")"
   ]
  },
  {
   "cell_type": "code",
   "execution_count": null,
   "id": "d0dbda3c",
   "metadata": {
    "execution": {
     "iopub.execute_input": "2024-06-09T02:32:19.792689Z",
     "iopub.status.busy": "2024-06-09T02:32:19.792512Z",
     "iopub.status.idle": "2024-06-09T02:32:19.811238Z",
     "shell.execute_reply": "2024-06-09T02:32:19.810775Z"
    }
   },
   "outputs": [],
   "source": [
    "# show a pink flower image\n",
    "pink = imgs[labels == 0]\n",
    "\n",
    "visualize_image(pink[0])"
   ]
  },
  {
   "cell_type": "code",
   "execution_count": null,
   "id": "ce321723",
   "metadata": {
    "execution": {
     "iopub.execute_input": "2024-06-09T02:32:19.813606Z",
     "iopub.status.busy": "2024-06-09T02:32:19.813361Z",
     "iopub.status.idle": "2024-06-09T02:32:19.833404Z",
     "shell.execute_reply": "2024-06-09T02:32:19.832968Z"
    },
    "lines_to_end_of_cell_marker": 2
   },
   "outputs": [],
   "source": [
    "# show a orange image\n",
    "orange = imgs[labels == 1]\n",
    "\n",
    "visualize_image(orange[0])"
   ]
  },
  {
   "cell_type": "markdown",
   "id": "5a345fbd",
   "metadata": {
    "lines_to_next_cell": 2
   },
   "source": [
    "# Nearest Neighbor Classifier\n",
    "\n",
    "Let us look at a simple classifier called k-nearest neighbor (kNN) classifier.\n",
    "\n",
    "The idea is the following: given a new point, we predict it label based on the labels from a subset of $k$ training\n",
    "sample that are *closest* to the new point.\n",
    "\n",
    "Or put it in a more mathematical way:\n",
    "\n",
    "We are given a training set $\\mathcal{D}=\\{(\\mathbf{x}_1, y_1), (\\mathbf{x}_2, y_2), \\cdots, (\\mathbf{x}_N, y_N)\\}$\n",
    "and a new data point $\\mathbf{x}$.\n",
    "\n",
    "The k-NN classifier is a function $f(\\mathbf{x}): \\mathbb{R} \\rightarrow \\{0, 1\\} $ that does the following:\n",
    "\n",
    "(1) it computes the distance of each training sampleto the new point\n",
    "$\\mathbf{x}$: $d_1=|\\mathbf{x}_1 - \\mathbf{x}|, \\cdots, d_N=|\\mathbf{x}_N - \\mathbf{x}|$;\n",
    "\n",
    "(2) it sorts $\\{ d_1, \\cdots, d_N \\}$ in ascending order into $\\{ d_{i_1}, \\cdots, d_{i_k}, \\cdots , d_{i_N} \\}$,\n",
    "where $ d_{i_1} < \\cdots < d_{i_k} < \\cdots < d_{i_N} $;\n",
    "\n",
    "(3) it predicts the new point's label based on the *mode* of $\\{ y_{i_1}, \\cdots, y_{i_k} \\}$.\n",
    "(Mode refers to the value that appears most in the set)\n",
    "\n",
    "$ f(\\mathbf{x}) = Mode(\\{ y_{i_1}, \\cdots, y_{i_k} \\}) $"
   ]
  },
  {
   "cell_type": "code",
   "execution_count": null,
   "id": "26f64b37",
   "metadata": {
    "execution": {
     "iopub.execute_input": "2024-06-09T02:32:19.835702Z",
     "iopub.status.busy": "2024-06-09T02:32:19.835521Z",
     "iopub.status.idle": "2024-06-09T02:32:19.855511Z",
     "shell.execute_reply": "2024-06-09T02:32:19.855000Z"
    }
   },
   "outputs": [],
   "source": [
    "def knn_classify(x_train, y_train, x_input, k=3):\n",
    "    # Compute distances between x and all examples in the training set\n",
    "    distances = ((x_input - x_train) ** 2).sum(dim=(1, 2, 3)).sqrt()\n",
    "\n",
    "    # Sort by distance and return indices of the first k neighbors\n",
    "    k_indices = torch.argsort(distances)[:k]\n",
    "    # Extract the labels of the k nearest neighbor training samples\n",
    "    k_nearest_labels = y_train[k_indices]\n",
    "\n",
    "    (labels, cnts) = torch.unique(k_nearest_labels, return_counts=True)\n",
    "    idx = torch.argmax(cnts)\n",
    "\n",
    "    return labels[idx]\n",
    "\n",
    "\n",
    "def knn_regression(x_train, y_train, x_input, k=3):\n",
    "    # Compute distances between x and all examples in the training set\n",
    "    distances = ((x_input - x_train) ** 2).sum(dim=(1, 2, 3)).sqrt()\n",
    "\n",
    "    # Sort by distance and return indices of the first k neighbors\n",
    "    k_indices = torch.argsort(distances)[:k]\n",
    "    # Extract the labels of the k nearest neighbor training samples\n",
    "    k_nearest_labels = y_train[k_indices]\n",
    "\n",
    "    return k_nearest_labels.mean()\n",
    "\n",
    "\n",
    "idx = 1\n",
    "prediction = knn_classify(imgs, labels, imgs[idx], k=3)\n",
    "label = labels[idx]\n",
    "\n",
    "print(f\"{prediction = }\")\n",
    "print(f\"{label = }\")"
   ]
  },
  {
   "cell_type": "code",
   "execution_count": null,
   "id": "54fe4cd8",
   "metadata": {
    "execution": {
     "iopub.execute_input": "2024-06-09T02:32:19.857703Z",
     "iopub.status.busy": "2024-06-09T02:32:19.857554Z",
     "iopub.status.idle": "2024-06-09T02:32:19.877525Z",
     "shell.execute_reply": "2024-06-09T02:32:19.877057Z"
    }
   },
   "outputs": [],
   "source": [
    "class KNN:\n",
    "    def __init__(self, x, y, k=3, task=\"classifipinkion\"):\n",
    "        self.X_train = x\n",
    "        self.y_train = y\n",
    "\n",
    "        self.k = k\n",
    "        self.task = task\n",
    "\n",
    "    def predict(self, x):\n",
    "        predicted_labels = [self._predict(x_i).item() for x_i in x]\n",
    "        return torch.tensor(predicted_labels)\n",
    "\n",
    "    def _predict(self, x):\n",
    "        # Compute distances between x and all examples in the training set\n",
    "        distances = ((x - self.X_train) ** 2).sum(dim=(1, 2, 3)).sqrt()\n",
    "\n",
    "        # Sort by distance and return indices of the first k neighbors\n",
    "        k_indices = torch.argsort(distances)[: self.k]\n",
    "        # Extract the labels of the k nearest neighbor training samples\n",
    "        k_nearest_labels = self.y_train[k_indices]\n",
    "\n",
    "        if self.task == \"classifipinkion\":\n",
    "            # return the most common class label\n",
    "            (labels, cnts) = torch.unique(k_nearest_labels, return_counts=True)\n",
    "            idx = torch.argmax(cnts)\n",
    "            return labels[idx]\n",
    "\n",
    "        elif self.task == \"regression\":\n",
    "            # return the mean of the labels\n",
    "            return torch.mean(torch.tensor(k_nearest_labels).float())\n",
    "\n",
    "\n",
    "# Fit the KNN model with the training data\n",
    "knn = KNN(imgs, labels, k=3, task=\"classifipinkion\")\n",
    "\n",
    "idx = 1\n",
    "prediction = knn.predict(imgs[idx : idx + 1])\n",
    "label = labels[idx]\n",
    "\n",
    "print(f\"{prediction = }\")\n",
    "print(f\"{label = }\")"
   ]
  },
  {
   "cell_type": "markdown",
   "id": "0e503bfe",
   "metadata": {},
   "source": [
    "## Testing the Model"
   ]
  },
  {
   "cell_type": "code",
   "execution_count": null,
   "id": "5b98f6ca",
   "metadata": {
    "execution": {
     "iopub.execute_input": "2024-06-09T02:32:19.879681Z",
     "iopub.status.busy": "2024-06-09T02:32:19.879532Z",
     "iopub.status.idle": "2024-06-09T02:32:25.099313Z",
     "shell.execute_reply": "2024-06-09T02:32:25.098794Z"
    }
   },
   "outputs": [],
   "source": [
    "test_dataset = torchvision.datasets.Flowers102(\"/tmp/flowers\", \"test\", transform=transform)\n",
    "imgs_test, labels_test = split_data(test_dataset)\n",
    "\n",
    "print(f\"{len(imgs_test) = }\")\n",
    "print(\"Ground truth label: \", labels_test[0].item())\n",
    "print(\"Predicted label: \", knn.predict(imgs_test)[0])\n",
    "\n",
    "visualize_image(imgs_test[0])"
   ]
  },
  {
   "cell_type": "markdown",
   "id": "52faf969",
   "metadata": {},
   "source": [
    "## Quantifying Performance"
   ]
  },
  {
   "cell_type": "code",
   "execution_count": null,
   "id": "a040d373",
   "metadata": {
    "execution": {
     "iopub.execute_input": "2024-06-09T02:32:25.101282Z",
     "iopub.status.busy": "2024-06-09T02:32:25.101085Z",
     "iopub.status.idle": "2024-06-09T02:32:25.138861Z",
     "shell.execute_reply": "2024-06-09T02:32:25.138019Z"
    }
   },
   "outputs": [],
   "source": [
    "preds = knn.predict(imgs_test)\n",
    "accuracy = (preds == labels_test).sum() / len(labels_test)\n",
    "\n",
    "print(\"Accuracy: \", accuracy.item())"
   ]
  },
  {
   "cell_type": "markdown",
   "id": "340f0302",
   "metadata": {},
   "source": [
    "# Nearest Neighbor Regression"
   ]
  },
  {
   "cell_type": "markdown",
   "id": "75562aaa",
   "metadata": {},
   "source": [
    "We can also use the Nearest Neighbor model for regression.\n",
    "\n",
    "The difference is that we use the average of the nearest neighbors' labels as the prediction.\n",
    "\n",
    "Recall that we use the label 0 for pinks and 1 for oranges. Instead of make this a classifipinkion problem,\n",
    "we can make it a regression problem.\n",
    "\n",
    "Here we try to regress to value (orangeness): the probability of being a orange (1) instead of a pink (0).\n",
    "\n",
    "In this way, we can test on images that are not pinks or oranges and see their orangeness."
   ]
  },
  {
   "cell_type": "markdown",
   "id": "5b3c4c0e",
   "metadata": {},
   "source": [
    "## Load and fit the KNN regressor"
   ]
  },
  {
   "cell_type": "code",
   "execution_count": null,
   "id": "070b761b",
   "metadata": {
    "execution": {
     "iopub.execute_input": "2024-06-09T02:32:25.142901Z",
     "iopub.status.busy": "2024-06-09T02:32:25.142552Z",
     "iopub.status.idle": "2024-06-09T02:32:25.168392Z",
     "shell.execute_reply": "2024-06-09T02:32:25.167869Z"
    }
   },
   "outputs": [],
   "source": [
    "# Fit the KNN regression model with the training data\n",
    "# We use K=10 to get a smoother regression result\n",
    "\n",
    "knn = KNN(imgs, labels, k=10, task=\"regression\")"
   ]
  },
  {
   "cell_type": "markdown",
   "id": "5d81a30c",
   "metadata": {},
   "source": [
    "## Test the model on pink/orange flowers"
   ]
  },
  {
   "cell_type": "code",
   "execution_count": null,
   "id": "8177146f",
   "metadata": {
    "execution": {
     "iopub.execute_input": "2024-06-09T02:32:25.170472Z",
     "iopub.status.busy": "2024-06-09T02:32:25.170289Z",
     "iopub.status.idle": "2024-06-09T02:32:25.210212Z",
     "shell.execute_reply": "2024-06-09T02:32:25.209610Z"
    }
   },
   "outputs": [],
   "source": [
    "pink_idx = labels_test[labels_test == 0][0]\n",
    "orange_idx = labels_test[labels_test == 1][0]\n",
    "\n",
    "print(\"Ground truth label: \", labels[pink_idx].item())\n",
    "print(\"Predicted label: \", knn.predict(imgs_test[pink_idx : pink_idx + 1]).item())\n",
    "\n",
    "print(\"Ground truth label: \", labels[orange_idx].item())\n",
    "print(\"Predicted label: \", knn.predict(imgs_test)[orange_idx : orange_idx + 1].item())"
   ]
  },
  {
   "cell_type": "markdown",
   "id": "b9d4ece7",
   "metadata": {},
   "source": [
    "## Inference on out-of-domain images"
   ]
  },
  {
   "cell_type": "code",
   "execution_count": null,
   "id": "3faeabc9",
   "metadata": {
    "execution": {
     "iopub.execute_input": "2024-06-09T02:32:25.212198Z",
     "iopub.status.busy": "2024-06-09T02:32:25.212017Z",
     "iopub.status.idle": "2024-06-09T02:32:25.230821Z",
     "shell.execute_reply": "2024-06-09T02:32:25.230158Z"
    }
   },
   "outputs": [],
   "source": [
    "import torchvision.transforms as transforms\n",
    "\n",
    "\n",
    "def load_image_to_tensor(filename):\n",
    "    transform = transforms.ToTensor()\n",
    "    image = Image.open(filename)\n",
    "    return transform(image)\n",
    "\n",
    "\n",
    "penguin_img = load_image_to_tensor(\"penguin_128.jpg\")\n",
    "\n",
    "print(\"Predicted label: \", knn.predict([penguin_img]).item())"
   ]
  }
 ],
 "metadata": {
  "jupytext": {
   "notebook_metadata_filter": "title"
  },
  "kernelspec": {
   "display_name": "Python 3 (ipykernel)",
   "language": "python",
   "name": "python3"
  },
  "language_info": {
   "codemirror_mode": {
    "name": "ipython",
    "version": 3
   },
   "file_extension": ".py",
   "mimetype": "text/x-python",
   "name": "python",
   "nbconvert_exporter": "python",
   "pygments_lexer": "ipython3",
   "version": "3.11.5"
  },
  "title": "A Basic Statistical Model in PyTorch"
 },
 "nbformat": 4,
 "nbformat_minor": 5
}
