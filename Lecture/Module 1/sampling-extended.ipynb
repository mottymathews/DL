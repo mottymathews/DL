{
 "cells": [
  {
   "cell_type": "markdown",
   "id": "9b9a303d",
   "metadata": {},
   "source": [
    "# Distributions and Sampling in PyTorch"
   ]
  },
  {
   "cell_type": "code",
   "execution_count": null,
   "id": "79ae51f2",
   "metadata": {
    "execution": {
     "iopub.execute_input": "2024-06-09T02:32:27.099372Z",
     "iopub.status.busy": "2024-06-09T02:32:27.099185Z",
     "iopub.status.idle": "2024-06-09T02:32:28.023894Z",
     "shell.execute_reply": "2024-06-09T02:32:28.023299Z"
    }
   },
   "outputs": [],
   "source": [
    "import matplotlib.pyplot as plt\n",
    "import torch\n",
    "import torch.distributions as dist"
   ]
  },
  {
   "cell_type": "markdown",
   "id": "b68f0219",
   "metadata": {},
   "source": [
    "## Distribution definitions"
   ]
  },
  {
   "cell_type": "code",
   "execution_count": null,
   "id": "991f2791",
   "metadata": {
    "execution": {
     "iopub.execute_input": "2024-06-09T02:32:28.026327Z",
     "iopub.status.busy": "2024-06-09T02:32:28.026090Z",
     "iopub.status.idle": "2024-06-09T02:32:28.174202Z",
     "shell.execute_reply": "2024-06-09T02:32:28.173554Z"
    }
   },
   "outputs": [],
   "source": [
    "# Define a Bernoulli distribution for coin tossing\n",
    "# Let's assume a fair coin, so p=0.5\n",
    "bernoulli_distribution = dist.Bernoulli(torch.tensor([0.5]))\n",
    "\n",
    "# Plotting the samples\n",
    "fig, ax = plt.subplots(1, 1, figsize=(6, 4))\n",
    "\n",
    "# Sampling from the Bernoulli distribution\n",
    "bernoulli_samples = bernoulli_distribution.sample((100,))\n",
    "\n",
    "# Bernoulli samples histogram\n",
    "ax.hist(bernoulli_samples.numpy())\n",
    "ax.set_title(\"Bernoulli Distribution Samples\")\n",
    "ax.set_xlabel(\"Outcome\")\n",
    "ax.set_ylabel(\"Frequency\")\n",
    "\n",
    "plt.tight_layout()\n",
    "plt.show()"
   ]
  },
  {
   "cell_type": "markdown",
   "id": "484b3cbe",
   "metadata": {},
   "source": [
    "## Sampling is biased"
   ]
  },
  {
   "cell_type": "code",
   "execution_count": null,
   "id": "9ecf4bb9",
   "metadata": {
    "execution": {
     "iopub.execute_input": "2024-06-09T02:32:28.177823Z",
     "iopub.status.busy": "2024-06-09T02:32:28.177663Z",
     "iopub.status.idle": "2024-06-09T02:32:28.183786Z",
     "shell.execute_reply": "2024-06-09T02:32:28.183303Z"
    }
   },
   "outputs": [],
   "source": [
    "# We can see that the samples are always biased.\n",
    "# The more samples we take, the less visible the bias is.\n",
    "\n",
    "for n in [10, 100, 1000, 10000]:\n",
    "    bernoulli_samples = bernoulli_distribution.sample((n,))\n",
    "    print(f\"Frequency of heads in {n} samples:\", torch.mean(bernoulli_samples).item())\n",
    "\n",
    "# compute the nuumber of heads in the 1000 Bernoulli samples\n",
    "bernoulli_samples = bernoulli_distribution.sample((1000,))\n",
    "\n",
    "print(\"Number of heads:\", torch.sum(bernoulli_samples).item())\n",
    "print(\"Frequency of heads:\", torch.mean(bernoulli_samples).item())"
   ]
  },
  {
   "cell_type": "markdown",
   "id": "94c64544",
   "metadata": {},
   "source": [
    "## Gaussian Sampling"
   ]
  },
  {
   "cell_type": "code",
   "execution_count": null,
   "id": "c2e5ff78",
   "metadata": {
    "execution": {
     "iopub.execute_input": "2024-06-09T02:32:28.187335Z",
     "iopub.status.busy": "2024-06-09T02:32:28.187185Z",
     "iopub.status.idle": "2024-06-09T02:32:28.381176Z",
     "shell.execute_reply": "2024-06-09T02:32:28.380560Z"
    },
    "lines_to_next_cell": 2
   },
   "outputs": [],
   "source": [
    "# For simplicity, let's assume a standard normal distribution with mean=0 and std=1\n",
    "gaussian_distribution = dist.Normal(torch.tensor([0.0]), torch.tensor([1.0]))\n",
    "\n",
    "# Plotting the samples\n",
    "fig, ax = plt.subplots(1, 1, figsize=(6, 4))\n",
    "\n",
    "# Sampling from the Gaussian distribution\n",
    "gaussian_samples = gaussian_distribution.sample((100,))\n",
    "\n",
    "# Gaussian samples histogram\n",
    "ax.hist(gaussian_samples.numpy(), bins=30)\n",
    "ax.set_title(\"Gaussian Distribution Samples\")\n",
    "ax.set_xlabel(\"Value\")\n",
    "ax.set_ylabel(\"Frequency\")\n",
    "\n",
    "plt.tight_layout()\n",
    "plt.show()\n",
    "\n",
    "# compute the mean of the 1000 Gaussian samples\n",
    "print(\"Mean of Gaussian samples:\", torch.mean(gaussian_samples).item())\n",
    "\n",
    "for n in [10, 100, 1000, 10000]:\n",
    "    gaussian_samples = gaussian_distribution.sample((n,))\n",
    "    print(f\"Mean of {n} Gaussian samples:\", torch.mean(gaussian_samples).item())\n"
   ]
  },
  {
   "cell_type": "markdown",
   "id": "1d6a15b2",
   "metadata": {},
   "source": [
    "## Probability Density Function (PDF)"
   ]
  },
  {
   "cell_type": "code",
   "execution_count": null,
   "id": "6fedde57",
   "metadata": {
    "execution": {
     "iopub.execute_input": "2024-06-09T02:32:28.386058Z",
     "iopub.status.busy": "2024-06-09T02:32:28.385899Z",
     "iopub.status.idle": "2024-06-09T02:32:28.573031Z",
     "shell.execute_reply": "2024-06-09T02:32:28.572068Z"
    }
   },
   "outputs": [],
   "source": [
    "# Probability Density Function (PDF) values for Gaussian Distribution at different points\n",
    "x_values = torch.linspace(-5, 5, 100)\n",
    "pdf_values = torch.exp(gaussian_distribution.log_prob(x_values))\n",
    "\n",
    "# Plotting PDF of Gaussian Distribution\n",
    "plt.figure(figsize=(6, 4))\n",
    "plt.plot(x_values.numpy(), pdf_values.numpy())\n",
    "plt.title(\"PDF of Gaussian Distribution\")\n",
    "plt.xlabel(\"Value\")\n",
    "plt.ylabel(\"Probability Density\")\n",
    "plt.grid(True)\n",
    "plt.show()"
   ]
  }
 ],
 "metadata": {
  "jupytext": {
   "notebook_metadata_filter": "title"
  },
  "kernelspec": {
   "display_name": "Python 3 (ipykernel)",
   "language": "python",
   "name": "python3"
  },
  "language_info": {
   "codemirror_mode": {
    "name": "ipython",
    "version": 3
   },
   "file_extension": ".py",
   "mimetype": "text/x-python",
   "name": "python",
   "nbconvert_exporter": "python",
   "pygments_lexer": "ipython3",
   "version": "3.11.5"
  },
  "title": "Distributions and Sampling in PyTorch"
 },
 "nbformat": 4,
 "nbformat_minor": 5
}
