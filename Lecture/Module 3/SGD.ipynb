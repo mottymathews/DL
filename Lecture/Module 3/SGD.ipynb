{
 "cells": [
  {
   "cell_type": "markdown",
   "id": "35db8f8c",
   "metadata": {},
   "source": [
    "# Training a Deep Network in PyTorch"
   ]
  },
  {
   "cell_type": "markdown",
   "id": "16cbfc29",
   "metadata": {},
   "source": [
    "### Prerequisite:\n",
    "\n",
    "Download the data from [here](https://drive.google.com/file/d/1czcJcoG06uT7-xF2_3mr9uBV3qVVb6Tg/view)\n",
    "and unzip it to `deeplearning_v2/dataset/dogs_and_cats/` folder."
   ]
  },
  {
   "cell_type": "code",
   "execution_count": null,
   "id": "5a1fbfba",
   "metadata": {
    "execution": {
     "iopub.execute_input": "2024-06-09T08:00:59.893187Z",
     "iopub.status.busy": "2024-06-09T08:00:59.892981Z",
     "iopub.status.idle": "2024-06-09T08:01:01.602416Z",
     "shell.execute_reply": "2024-06-09T08:01:01.601906Z"
    }
   },
   "outputs": [],
   "source": [
    "%load_ext autoreload\n",
    "%autoreload 2\n",
    "\n",
    "import matplotlib.pyplot as plt\n",
    "import numpy as np\n",
    "import torch\n",
    "from utdl.data import loader"
   ]
  },
  {
   "cell_type": "code",
   "execution_count": null,
   "id": "cdd8a32c",
   "metadata": {
    "execution": {
     "iopub.execute_input": "2024-06-09T08:01:01.605904Z",
     "iopub.status.busy": "2024-06-09T08:01:01.605679Z",
     "iopub.status.idle": "2024-06-09T08:01:01.621942Z",
     "shell.execute_reply": "2024-06-09T08:01:01.621472Z"
    }
   },
   "outputs": [],
   "source": [
    "transform = loader.get_transform(resize=(32, 32))\n",
    "input_size = 32 * 32 * 3\n",
    "train_dataset = loader.get_dataset(\"dogs_and_cats\", \"train\", transform=transform)\n",
    "valid_dataset = loader.get_dataset(\"dogs_and_cats\", \"valid\", transform=transform)"
   ]
  },
  {
   "cell_type": "code",
   "execution_count": null,
   "id": "a3a0fd80",
   "metadata": {
    "execution": {
     "iopub.execute_input": "2024-06-09T08:01:01.625445Z",
     "iopub.status.busy": "2024-06-09T08:01:01.625290Z",
     "iopub.status.idle": "2024-06-09T08:01:02.367005Z",
     "shell.execute_reply": "2024-06-09T08:01:02.366351Z"
    }
   },
   "outputs": [],
   "source": [
    "def split_data(dataset):\n",
    "    imgs = []\n",
    "    labels = []\n",
    "\n",
    "    for x, y in dataset:\n",
    "        imgs.append(x)\n",
    "        labels.append(y)\n",
    "\n",
    "    imgs = torch.stack(imgs, dim=0)\n",
    "    labels = torch.as_tensor(labels, dtype=torch.long)\n",
    "\n",
    "    return imgs, labels\n",
    "\n",
    "\n",
    "train_data, train_label = split_data(train_dataset)\n",
    "valid_data, valid_label = split_data(valid_dataset)"
   ]
  },
  {
   "cell_type": "code",
   "execution_count": null,
   "id": "74dd9790",
   "metadata": {
    "execution": {
     "iopub.execute_input": "2024-06-09T08:01:02.370790Z",
     "iopub.status.busy": "2024-06-09T08:01:02.370628Z",
     "iopub.status.idle": "2024-06-09T08:01:02.387099Z",
     "shell.execute_reply": "2024-06-09T08:01:02.386560Z"
    }
   },
   "outputs": [],
   "source": [
    "class MLP(torch.nn.Module):\n",
    "    def __init__(self, input_size, *hidden_size):\n",
    "        super().__init__()\n",
    "        layers = []\n",
    "        # Add hidden layers\n",
    "        n_in = input_size\n",
    "        for n_out in hidden_size:\n",
    "            layers.append(torch.nn.Linear(n_in, n_out))\n",
    "            layers.append(torch.nn.ReLU())\n",
    "            n_in = n_out\n",
    "        # Add the output layer\n",
    "        layers.append(torch.nn.Linear(n_out, 1))\n",
    "\n",
    "        # Use torch.nn.Sequential to create a small model,\n",
    "        # where the layers are connected in a cascading way.\n",
    "        # The order they are passed in the constructor\n",
    "        self.network = torch.nn.Sequential(*layers)\n",
    "\n",
    "    def forward(self, x):\n",
    "        return self.network(x.view(x.shape[0], -1))"
   ]
  },
  {
   "cell_type": "code",
   "execution_count": null,
   "id": "95c5255f",
   "metadata": {
    "execution": {
     "iopub.execute_input": "2024-06-09T08:01:02.390742Z",
     "iopub.status.busy": "2024-06-09T08:01:02.390597Z",
     "iopub.status.idle": "2024-06-09T08:01:04.180905Z",
     "shell.execute_reply": "2024-06-09T08:01:04.180332Z"
    }
   },
   "outputs": [],
   "source": [
    "n_epochs = 200\n",
    "batch_size = 64\n",
    "\n",
    "# Create the network\n",
    "net = MLP(input_size, 100, 50, 50)\n",
    "\n",
    "# Create the optimizer\n",
    "optimizer = torch.optim.SGD(net.parameters(), lr=0.01, momentum=0.9, weight_decay=1e-4)\n",
    "\n",
    "# Create the loss\n",
    "loss = torch.nn.BCEWithLogitsLoss()\n",
    "\n",
    "# Start training\n",
    "global_step = 0\n",
    "train_loss_seq = []\n",
    "train_accuracy_seq = []\n",
    "valid_accuracy_seq = []\n",
    "for epoch in range(n_epochs):\n",
    "    # Shuffle the data\n",
    "    indices_after_permutation = torch.randperm(train_data.size(0))\n",
    "\n",
    "    # Iterate\n",
    "    train_accuracy = []\n",
    "    for it in range(0, len(indices_after_permutation) - batch_size + 1, batch_size):\n",
    "        batch_samples = indices_after_permutation[it : it + batch_size]\n",
    "        batch_data, batch_label = train_data[batch_samples], train_label[batch_samples]\n",
    "        batch_label = batch_label.view(-1, 1)\n",
    "\n",
    "        # Compute the loss\n",
    "        o = net(batch_data)\n",
    "        loss_train = loss(o, batch_label.float())\n",
    "\n",
    "        print(f\"[Epoch {epoch}][{it}/{len(indices_after_permutation)}] train/loss: {loss_train}\")\n",
    "        train_loss_seq.append(loss_train)\n",
    "        # Compute the accuracy\n",
    "        train_pred = o > 0\n",
    "        train_accuracy.extend((train_pred.long() == batch_label).cpu().detach().numpy())\n",
    "\n",
    "        optimizer.zero_grad()\n",
    "        loss_train.backward()\n",
    "        optimizer.step()\n",
    "\n",
    "        # Increase the global step\n",
    "        global_step += 1\n",
    "\n",
    "    # Evaluate the model\n",
    "    valid_accuracy = []\n",
    "    for it in range(0, len(valid_dataset), batch_size):\n",
    "        batch_data, batch_label = valid_data[it : it + batch_size], valid_label[it : it + batch_size]\n",
    "        batch_label = batch_label.view(-1, 1)\n",
    "        valid_pred = net(batch_data) > 0\n",
    "        valid_accuracy.extend((valid_pred.long() == batch_label).cpu().detach().numpy())\n",
    "\n",
    "    print(f\"[Epoch {epoch}] train/accuracy: {np.mean(train_accuracy)}\")\n",
    "    print(f\"[Epoch {epoch}] valid/accuracy: {np.mean(valid_accuracy)}\")\n",
    "    train_accuracy_seq.append(np.mean(train_accuracy))\n",
    "    valid_accuracy_seq.append(np.mean(valid_accuracy))"
   ]
  },
  {
   "cell_type": "code",
   "execution_count": null,
   "id": "740829c8",
   "metadata": {
    "execution": {
     "iopub.execute_input": "2024-06-09T08:01:04.183504Z",
     "iopub.status.busy": "2024-06-09T08:01:04.183086Z",
     "iopub.status.idle": "2024-06-09T08:01:04.365297Z",
     "shell.execute_reply": "2024-06-09T08:01:04.364754Z"
    },
    "lines_to_next_cell": 0
   },
   "outputs": [],
   "source": [
    "plt.plot(range(n_epochs), train_accuracy_seq, label=\"train acc\")\n",
    "plt.plot(range(n_epochs), valid_accuracy_seq, label=\"val acc\")\n",
    "plt.legend()\n",
    "plt.show()"
   ]
  },
  {
   "cell_type": "code",
   "execution_count": null,
   "id": "72579642",
   "metadata": {
    "execution": {
     "iopub.execute_input": "2024-06-09T08:01:04.367959Z",
     "iopub.status.busy": "2024-06-09T08:01:04.367493Z",
     "iopub.status.idle": "2024-06-09T08:01:04.534327Z",
     "shell.execute_reply": "2024-06-09T08:01:04.533784Z"
    }
   },
   "outputs": [],
   "source": [
    "plt.plot(net(train_data[train_label == 0]).view(-1).cpu().detach().numpy(), \"*\", label=\"cats\")\n",
    "plt.plot(net(train_data[train_label == 1]).view(-1).cpu().detach().numpy(), \"*\", label=\"dogs\")\n",
    "plt.legend()\n",
    "plt.show()"
   ]
  },
  {
   "cell_type": "code",
   "execution_count": null,
   "id": "6ab03f41",
   "metadata": {
    "execution": {
     "iopub.execute_input": "2024-06-09T08:01:04.537606Z",
     "iopub.status.busy": "2024-06-09T08:01:04.537128Z",
     "iopub.status.idle": "2024-06-09T08:01:04.696691Z",
     "shell.execute_reply": "2024-06-09T08:01:04.696113Z"
    }
   },
   "outputs": [],
   "source": [
    "plt.plot(net(valid_data[valid_label == 0]).view(-1).cpu().detach().numpy(), \"*\", label=\"cats\")\n",
    "plt.plot(net(valid_data[valid_label == 1]).view(-1).cpu().detach().numpy(), \"*\", label=\"dogs\")\n",
    "plt.legend()\n",
    "plt.show()"
   ]
  },
  {
   "cell_type": "code",
   "execution_count": null,
   "id": "dbaa08d6",
   "metadata": {},
   "outputs": [],
   "source": []
  }
 ],
 "metadata": {
  "jupytext": {
   "custom_cell_magics": "kql",
   "notebook_metadata_filter": "title"
  },
  "kernelspec": {
   "display_name": "Python 3 (ipykernel)",
   "language": "python",
   "name": "python3"
  },
  "language_info": {
   "codemirror_mode": {
    "name": "ipython",
    "version": 3
   },
   "file_extension": ".py",
   "mimetype": "text/x-python",
   "name": "python",
   "nbconvert_exporter": "python",
   "pygments_lexer": "ipython3",
   "version": "3.11.5"
  },
  "title": "Stochastic Gradient Descent in PyTorch"
 },
 "nbformat": 4,
 "nbformat_minor": 5
}
